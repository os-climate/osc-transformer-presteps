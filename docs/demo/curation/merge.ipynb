{
 "cells": [
  {
   "cell_type": "code",
   "execution_count": 1,
   "metadata": {},
   "outputs": [],
   "source": [
    "import json\n",
    "import os\n",
    "import pandas as pd"
   ]
  },
  {
   "cell_type": "code",
   "execution_count": null,
   "metadata": {},
   "outputs": [],
   "source": [
    "# Directory containing the CSV files\n",
    "directory = \"output\"\n",
    "\n",
    "# Initialize an empty DataFrame to hold the combined data\n",
    "combined_df = pd.DataFrame()\n",
    "\n",
    "# Iterate through the files in the specified directory\n",
    "for csv in os.listdir(directory):\n",
    "    # Construct the full path to the file\n",
    "    path = os.path.join(directory, csv)\n",
    "    try:\n",
    "        # Read the CSV file into a DataFrame and concatenate it directly to combined_df\n",
    "        df = pd.read_csv(path)\n",
    "        combined_df = pd.concat([combined_df, df], ignore_index=True)\n",
    "    except Exception as e:\n",
    "        print(f\"Error reading {path}: {e}\")\n",
    "\n",
    "sorted_df = combined_df.sort_values(by=[\"source_file\", \"kpi_id\", \"label\"])\n",
    "# Optionally, save the combined DataFrame to a new CSV file\n",
    "sorted_df.to_csv('combined_output.csv', index=False)\n",
    "\n",
    "print(\"All CSV files have been merged successfully into 'combined_output.csv'.\")\n"
   ]
  },
  {
   "cell_type": "code",
   "execution_count": null,
   "metadata": {},
   "outputs": [],
   "source": []
  }
 ],
 "metadata": {
  "kernelspec": {
   "display_name": "venv",
   "language": "python",
   "name": "python3"
  },
  "language_info": {
   "codemirror_mode": {
    "name": "ipython",
    "version": 3
   },
   "file_extension": ".py",
   "mimetype": "text/x-python",
   "name": "python",
   "nbconvert_exporter": "python",
   "pygments_lexer": "ipython3",
   "version": "3.10.4"
  }
 },
 "nbformat": 4,
 "nbformat_minor": 2
}
