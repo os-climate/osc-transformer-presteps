{
 "cells": [
  {
   "cell_type": "code",
   "execution_count": 1,
   "metadata": {},
   "outputs": [],
   "source": [
    "from pathlib import Path\n",
    "import os\n",
    "from pydantic import BaseModel, FilePath, ValidationError\n",
    "import sys\n",
    "import math\n",
    "from pathlib import Path\n",
    "sys.path.append(r'C:\\Users\\Tanishq\\Desktop\\IDS_WORK\\curator\\osc-transformer-presteps')\n",
    "\n",
    "from src.osc_transformer_presteps.dataset_creation_curation.curator import Curator"
   ]
  },
  {
   "cell_type": "code",
   "execution_count": 2,
   "metadata": {},
   "outputs": [],
   "source": [
    "class AnnotationData(BaseModel):\n",
    "    \"\"\"\n",
    "    Pydantic model for annotation data.\n",
    "    \"\"\"\n",
    "\n",
    "    annotation_folder: FilePath\n",
    "    extract_json: FilePath\n",
    "    kpi_mapping_path: FilePath\n",
    "    output_path: Path\n"
   ]
  },
  {
   "cell_type": "code",
   "execution_count": 3,
   "metadata": {},
   "outputs": [],
   "source": [
    "# Assuming your script is located in the same directory as the 'input' and 'output' folders\n",
    "input_folder = Path(\"input\").resolve()\n",
    "output_folder = Path(\"dtt\").resolve()\n",
    "\n",
    "### give path to the json folder\n",
    "json_folder = Path(\"dtt\").resolve()\n",
    "\n",
    "input_folder = input_folder.resolve()\n",
    "output_folder = output_folder.resolve()\n",
    "json_folder = json_folder.resolve()\n",
    "\n",
    "\n",
    "annotation_folder = input_folder / \"train_anno_large.xlsx\"\n",
    "kpi_mapping_path = input_folder / \"kpi_mapping.csv\""
   ]
  },
  {
   "cell_type": "code",
   "execution_count": 5,
   "metadata": {},
   "outputs": [
    {
     "name": "stdout",
     "output_type": "stream",
     "text": [
      "C:\\Users\\Tanishq\\Desktop\\IDS_WORK\\curator\\osc-transformer-presteps\\docs\\demo\\curation\\dtt\\2013_book_mol_ar_eng_fin_output.json\n",
      "C:\\Users\\Tanishq\\Desktop\\IDS_WORK\\curator\\osc-transformer-presteps\\docs\\demo\\curation\\dtt\\2014 Environmental and Social Report (En)_output.json\n",
      "C:\\Users\\Tanishq\\Desktop\\IDS_WORK\\curator\\osc-transformer-presteps\\docs\\demo\\curation\\dtt\\2016_Volume2_AR-1_output.json\n",
      "C:\\Users\\Tanishq\\Desktop\\IDS_WORK\\curator\\osc-transformer-presteps\\docs\\demo\\curation\\dtt\\2017_Volume2_AR_output.json\n"
     ]
    }
   ],
   "source": [
    "# Iterate over JSON files in the data_for_curator folder\n",
    "for json_file in json_folder.glob(\"*.json\"):\n",
    "\n",
    "    extract_json_path = json_folder /  json_file.name\n",
    "    output_file_path_main = output_folder / json_file.with_suffix(\".csv\").name\n",
    "\n",
    "    file_name = os.path.basename(json_file).replace(\"_output\",\"\")\n",
    "    print(extract_json_path)\n",
    "\n",
    "    # Create AnnotationData instance\n",
    "    annotation_data = AnnotationData(\n",
    "        annotation_folder=annotation_folder,\n",
    "        extract_json=extract_json_path,\n",
    "        kpi_mapping_path=kpi_mapping_path,\n",
    "        output_path=output_file_path_main,\n",
    "    )\n",
    "\n",
    "    try:\n",
    "        # Validate AnnotationData instance\n",
    "        annotation_data = AnnotationData(**annotation_data.dict())\n",
    "        \n",
    "    except ValidationError as e:\n",
    "        print(f\"Validation error: {e}\")\n",
    "    else:\n",
    "        # Create Curator instance\n",
    "        curator = Curator(\n",
    "            annotation_folder=annotation_data.annotation_folder,\n",
    "            extract_json=annotation_data.extract_json,\n",
    "            kpi_mapping_path=annotation_data.kpi_mapping_path,\n",
    "            output_path=annotation_data.output_path,\n",
    "        )\n",
    "    \n",
    "    "
   ]
  },
  {
   "cell_type": "code",
   "execution_count": null,
   "metadata": {},
   "outputs": [],
   "source": []
  }
 ],
 "metadata": {
  "kernelspec": {
   "display_name": "venv",
   "language": "python",
   "name": "python3"
  },
  "language_info": {
   "codemirror_mode": {
    "name": "ipython",
    "version": 3
   },
   "file_extension": ".py",
   "mimetype": "text/x-python",
   "name": "python",
   "nbconvert_exporter": "python",
   "pygments_lexer": "ipython3",
   "version": "3.10.4"
  }
 },
 "nbformat": 4,
 "nbformat_minor": 2
}
