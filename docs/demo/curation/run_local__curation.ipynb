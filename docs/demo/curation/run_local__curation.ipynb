{
 "cells": [
  {
   "cell_type": "code",
   "execution_count": 1,
   "metadata": {},
   "outputs": [],
   "source": [
    "from pathlib import Path\n",
    "import os\n",
    "from pydantic import BaseModel, FilePath, ValidationError\n",
    "import sys\n",
    "from pathlib import Path\n",
    "sys.path.append(r'C:\\Users\\Tanishq\\Desktop\\IDS_WORK\\curator\\osc-transformer-presteps')\n",
    "\n",
    "from src.osc_transformer_presteps.dataset_creation_curation.curator import Curator"
   ]
  },
  {
   "cell_type": "code",
   "execution_count": 2,
   "metadata": {},
   "outputs": [],
   "source": [
    "class AnnotationData(BaseModel):\n",
    "    \"\"\"\n",
    "    Pydantic model for annotation data.\n",
    "    \"\"\"\n",
    "\n",
    "    annotation_folder: FilePath\n",
    "    extract_json: FilePath\n",
    "    kpi_mapping_path: FilePath\n",
    "    output_path: Path\n"
   ]
  },
  {
   "cell_type": "code",
   "execution_count": 3,
   "metadata": {},
   "outputs": [],
   "source": [
    "# Assuming your script is located in the same directory as the 'input' and 'output' folders\n",
    "input_folder = Path(\"input\").resolve()\n",
    "output_folder = Path(\"output\").resolve()\n",
    "\n",
    "### give path to the json folder\n",
    "json_folder = Path(\"data_for_curator\").resolve()\n",
    "\n",
    "input_folder = input_folder.resolve()\n",
    "output_folder = output_folder.resolve()\n",
    "json_folder = json_folder.resolve()\n",
    "\n",
    "\n",
    "annotation_folder = input_folder / \"train_anno_large.xlsx\"\n",
    "kpi_mapping_path = input_folder / \"kpi_mapping.csv\""
   ]
  },
  {
   "cell_type": "code",
   "execution_count": 4,
   "metadata": {},
   "outputs": [
    {
     "name": "stdout",
     "output_type": "stream",
     "text": [
      "C:\\Users\\Tanishq\\Desktop\\IDS_WORK\\curator\\osc-transformer-presteps\\docs\\demo\\curation\\data_for_curator\\04_NOVATEK_AR_2016_ENG_11_output.json\n"
     ]
    },
    {
     "ename": "ValueError",
     "evalue": "malformed node or string on line 1: <ast.Name object at 0x000001BE53EA78E0>",
     "output_type": "error",
     "traceback": [
      "\u001b[1;31m---------------------------------------------------------------------------\u001b[0m",
      "\u001b[1;31mValueError\u001b[0m                                Traceback (most recent call last)",
      "Cell \u001b[1;32mIn[4], line 26\u001b[0m\n\u001b[0;32m     23\u001b[0m     \u001b[38;5;28mprint\u001b[39m(\u001b[38;5;124mf\u001b[39m\u001b[38;5;124m\"\u001b[39m\u001b[38;5;124mValidation error: \u001b[39m\u001b[38;5;132;01m{\u001b[39;00me\u001b[38;5;132;01m}\u001b[39;00m\u001b[38;5;124m\"\u001b[39m)\n\u001b[0;32m     24\u001b[0m \u001b[38;5;28;01melse\u001b[39;00m:\n\u001b[0;32m     25\u001b[0m     \u001b[38;5;66;03m# Create Curator instance\u001b[39;00m\n\u001b[1;32m---> 26\u001b[0m     curator \u001b[38;5;241m=\u001b[39m \u001b[43mCurator\u001b[49m\u001b[43m(\u001b[49m\n\u001b[0;32m     27\u001b[0m \u001b[43m        \u001b[49m\u001b[43mannotation_folder\u001b[49m\u001b[38;5;241;43m=\u001b[39;49m\u001b[43mannotation_data\u001b[49m\u001b[38;5;241;43m.\u001b[39;49m\u001b[43mannotation_folder\u001b[49m\u001b[43m,\u001b[49m\n\u001b[0;32m     28\u001b[0m \u001b[43m        \u001b[49m\u001b[43mextract_json\u001b[49m\u001b[38;5;241;43m=\u001b[39;49m\u001b[43mannotation_data\u001b[49m\u001b[38;5;241;43m.\u001b[39;49m\u001b[43mextract_json\u001b[49m\u001b[43m,\u001b[49m\n\u001b[0;32m     29\u001b[0m \u001b[43m        \u001b[49m\u001b[43mkpi_mapping_path\u001b[49m\u001b[38;5;241;43m=\u001b[39;49m\u001b[43mannotation_data\u001b[49m\u001b[38;5;241;43m.\u001b[39;49m\u001b[43mkpi_mapping_path\u001b[49m\u001b[43m,\u001b[49m\n\u001b[0;32m     30\u001b[0m \u001b[43m        \u001b[49m\u001b[43moutput_path\u001b[49m\u001b[38;5;241;43m=\u001b[39;49m\u001b[43mannotation_data\u001b[49m\u001b[38;5;241;43m.\u001b[39;49m\u001b[43moutput_path\u001b[49m\u001b[43m,\u001b[49m\n\u001b[0;32m     31\u001b[0m \u001b[43m    \u001b[49m\u001b[43m)\u001b[49m\n",
      "File \u001b[1;32m~\\Desktop\\IDS_WORK\\curator\\osc-transformer-presteps\\src\\osc_transformer_presteps\\dataset_creation_curation\\curator.py:91\u001b[0m, in \u001b[0;36mCurator.__init__\u001b[1;34m(self, annotation_folder, extract_json, kpi_mapping_path, output_path, retrieve_paragraph, neg_pos_ratio, columns_to_read, company_to_exclude, create_neg_samples, min_length_neg_sample, seed)\u001b[0m\n\u001b[0;32m     88\u001b[0m \u001b[38;5;28mself\u001b[39m\u001b[38;5;241m.\u001b[39mseed \u001b[38;5;241m=\u001b[39m seed\n\u001b[0;32m     90\u001b[0m \u001b[38;5;28mself\u001b[39m\u001b[38;5;241m.\u001b[39mpdf_content \u001b[38;5;241m=\u001b[39m \u001b[38;5;28mself\u001b[39m\u001b[38;5;241m.\u001b[39mload_pdf_content()\n\u001b[1;32m---> 91\u001b[0m \u001b[38;5;28;43mself\u001b[39;49m\u001b[38;5;241;43m.\u001b[39;49m\u001b[43mcreate_curator_df\u001b[49m\u001b[43m(\u001b[49m\u001b[38;5;28;43mself\u001b[39;49m\u001b[38;5;241;43m.\u001b[39;49m\u001b[43moutput_path\u001b[49m\u001b[43m)\u001b[49m\n",
      "File \u001b[1;32m~\\Desktop\\IDS_WORK\\curator\\osc-transformer-presteps\\src\\osc_transformer_presteps\\dataset_creation_curation\\curator.py:180\u001b[0m, in \u001b[0;36mCurator.create_curator_df\u001b[1;34m(self, output_path)\u001b[0m\n\u001b[0;32m    179\u001b[0m \u001b[38;5;28;01mdef\u001b[39;00m \u001b[38;5;21mcreate_curator_df\u001b[39m(\u001b[38;5;28mself\u001b[39m, output_path) \u001b[38;5;241m-\u001b[39m\u001b[38;5;241m>\u001b[39m \u001b[38;5;28;01mNone\u001b[39;00m:\n\u001b[1;32m--> 180\u001b[0m     new_dfs \u001b[38;5;241m=\u001b[39m \u001b[38;5;28;43mself\u001b[39;49m\u001b[38;5;241;43m.\u001b[39;49m\u001b[43mcreate_examples_annotate\u001b[49m\u001b[43m(\u001b[49m\u001b[38;5;28;43mself\u001b[39;49m\u001b[38;5;241;43m.\u001b[39;49m\u001b[43mannotation_folder\u001b[49m\u001b[43m)\u001b[49m\n\u001b[0;32m    181\u001b[0m     new_df \u001b[38;5;241m=\u001b[39m pd\u001b[38;5;241m.\u001b[39mconcat(new_dfs, ignore_index\u001b[38;5;241m=\u001b[39m\u001b[38;5;28;01mTrue\u001b[39;00m)\n\u001b[0;32m    183\u001b[0m     kpi_df \u001b[38;5;241m=\u001b[39m pd\u001b[38;5;241m.\u001b[39mread_csv(\u001b[38;5;28mself\u001b[39m\u001b[38;5;241m.\u001b[39mkpi_mapping_path, header\u001b[38;5;241m=\u001b[39m\u001b[38;5;241m0\u001b[39m)\n",
      "File \u001b[1;32m~\\Desktop\\IDS_WORK\\curator\\osc-transformer-presteps\\src\\osc_transformer_presteps\\dataset_creation_curation\\curator.py:164\u001b[0m, in \u001b[0;36mCurator.create_examples_annotate\u001b[1;34m(self, filepath)\u001b[0m\n\u001b[0;32m    162\u001b[0m \u001b[38;5;28;01mfor\u001b[39;00m i, row \u001b[38;5;129;01min\u001b[39;00m df\u001b[38;5;241m.\u001b[39miterrows():\n\u001b[0;32m    163\u001b[0m     row[\u001b[38;5;124m\"\u001b[39m\u001b[38;5;124mIndex\u001b[39m\u001b[38;5;124m\"\u001b[39m] \u001b[38;5;241m=\u001b[39m i\n\u001b[1;32m--> 164\u001b[0m     positive_context \u001b[38;5;241m=\u001b[39m \u001b[38;5;28;43mself\u001b[39;49m\u001b[38;5;241;43m.\u001b[39;49m\u001b[43mcreate_pos_examples\u001b[49m\u001b[43m(\u001b[49m\u001b[43mrow\u001b[49m\u001b[38;5;241;43m.\u001b[39;49m\u001b[43mcopy\u001b[49m\u001b[43m(\u001b[49m\u001b[43m)\u001b[49m\u001b[43m)\u001b[49m\n\u001b[0;32m    166\u001b[0m     negative_context: List[\u001b[38;5;28mstr\u001b[39m] \u001b[38;5;241m=\u001b[39m \u001b[38;5;28mself\u001b[39m\u001b[38;5;241m.\u001b[39mcreate_neg_examples(row\u001b[38;5;241m.\u001b[39mcopy()) \u001b[38;5;28;01mif\u001b[39;00m \u001b[38;5;28mself\u001b[39m\u001b[38;5;241m.\u001b[39mcreate_neg_samples \u001b[38;5;28;01melse\u001b[39;00m []\n\u001b[0;32m    168\u001b[0m     \u001b[38;5;66;03m# Create DataFrames for positive contexts\u001b[39;00m\n",
      "File \u001b[1;32m~\\Desktop\\IDS_WORK\\curator\\osc-transformer-presteps\\src\\osc_transformer_presteps\\dataset_creation_curation\\curator.py:112\u001b[0m, in \u001b[0;36mCurator.create_pos_examples\u001b[1;34m(self, row)\u001b[0m\n\u001b[0;32m    110\u001b[0m \u001b[38;5;28;01mdef\u001b[39;00m \u001b[38;5;21mcreate_pos_examples\u001b[39m(\u001b[38;5;28mself\u001b[39m, row: pd\u001b[38;5;241m.\u001b[39mSeries) \u001b[38;5;241m-\u001b[39m\u001b[38;5;241m>\u001b[39m List[Union[\u001b[38;5;28mstr\u001b[39m, List[\u001b[38;5;28mstr\u001b[39m]]]:\n\u001b[0;32m    111\u001b[0m     value: \u001b[38;5;28mstr\u001b[39m \u001b[38;5;241m=\u001b[39m \u001b[38;5;28mstr\u001b[39m(row[\u001b[38;5;124m\"\u001b[39m\u001b[38;5;124mrelevant_paragraphs\u001b[39m\u001b[38;5;124m\"\u001b[39m])\n\u001b[1;32m--> 112\u001b[0m     sentences: List[\u001b[38;5;28mstr\u001b[39m] \u001b[38;5;241m=\u001b[39m \u001b[43mast\u001b[49m\u001b[38;5;241;43m.\u001b[39;49m\u001b[43mliteral_eval\u001b[49m\u001b[43m(\u001b[49m\u001b[38;5;28;43mself\u001b[39;49m\u001b[38;5;241;43m.\u001b[39;49m\u001b[43mclean_text\u001b[49m\u001b[43m(\u001b[49m\u001b[43mvalue\u001b[49m\u001b[43m)\u001b[49m\u001b[43m)\u001b[49m\n\u001b[0;32m    114\u001b[0m     \u001b[38;5;28;01mif\u001b[39;00m \u001b[38;5;28mself\u001b[39m\u001b[38;5;241m.\u001b[39mjson_file_name\u001b[38;5;241m.\u001b[39mreplace(\u001b[38;5;124m\"\u001b[39m\u001b[38;5;124m.json\u001b[39m\u001b[38;5;124m\"\u001b[39m, \u001b[38;5;124m\"\u001b[39m\u001b[38;5;124m\"\u001b[39m) \u001b[38;5;241m==\u001b[39m row[\u001b[38;5;124m'\u001b[39m\u001b[38;5;124msource_file\u001b[39m\u001b[38;5;124m'\u001b[39m]\u001b[38;5;241m.\u001b[39mreplace(\u001b[38;5;124m\"\u001b[39m\u001b[38;5;124m.pdf\u001b[39m\u001b[38;5;124m\"\u001b[39m, \u001b[38;5;124m\"\u001b[39m\u001b[38;5;124m\"\u001b[39m):\n\u001b[0;32m    116\u001b[0m         source_page \u001b[38;5;241m=\u001b[39m \u001b[38;5;28mstr\u001b[39m(row[\u001b[38;5;124m'\u001b[39m\u001b[38;5;124msource_page\u001b[39m\u001b[38;5;124m'\u001b[39m])\n",
      "File \u001b[1;32mC:\\Program Files\\Python310\\lib\\ast.py:108\u001b[0m, in \u001b[0;36mliteral_eval\u001b[1;34m(node_or_string)\u001b[0m\n\u001b[0;32m    106\u001b[0m                 \u001b[38;5;28;01mreturn\u001b[39;00m left \u001b[38;5;241m-\u001b[39m right\n\u001b[0;32m    107\u001b[0m     \u001b[38;5;28;01mreturn\u001b[39;00m _convert_signed_num(node)\n\u001b[1;32m--> 108\u001b[0m \u001b[38;5;28;01mreturn\u001b[39;00m \u001b[43m_convert\u001b[49m\u001b[43m(\u001b[49m\u001b[43mnode_or_string\u001b[49m\u001b[43m)\u001b[49m\n",
      "File \u001b[1;32mC:\\Program Files\\Python310\\lib\\ast.py:107\u001b[0m, in \u001b[0;36mliteral_eval.<locals>._convert\u001b[1;34m(node)\u001b[0m\n\u001b[0;32m    105\u001b[0m         \u001b[38;5;28;01melse\u001b[39;00m:\n\u001b[0;32m    106\u001b[0m             \u001b[38;5;28;01mreturn\u001b[39;00m left \u001b[38;5;241m-\u001b[39m right\n\u001b[1;32m--> 107\u001b[0m \u001b[38;5;28;01mreturn\u001b[39;00m \u001b[43m_convert_signed_num\u001b[49m\u001b[43m(\u001b[49m\u001b[43mnode\u001b[49m\u001b[43m)\u001b[49m\n",
      "File \u001b[1;32mC:\\Program Files\\Python310\\lib\\ast.py:81\u001b[0m, in \u001b[0;36mliteral_eval.<locals>._convert_signed_num\u001b[1;34m(node)\u001b[0m\n\u001b[0;32m     79\u001b[0m     \u001b[38;5;28;01melse\u001b[39;00m:\n\u001b[0;32m     80\u001b[0m         \u001b[38;5;28;01mreturn\u001b[39;00m \u001b[38;5;241m-\u001b[39m operand\n\u001b[1;32m---> 81\u001b[0m \u001b[38;5;28;01mreturn\u001b[39;00m \u001b[43m_convert_num\u001b[49m\u001b[43m(\u001b[49m\u001b[43mnode\u001b[49m\u001b[43m)\u001b[49m\n",
      "File \u001b[1;32mC:\\Program Files\\Python310\\lib\\ast.py:72\u001b[0m, in \u001b[0;36mliteral_eval.<locals>._convert_num\u001b[1;34m(node)\u001b[0m\n\u001b[0;32m     70\u001b[0m \u001b[38;5;28;01mdef\u001b[39;00m \u001b[38;5;21m_convert_num\u001b[39m(node):\n\u001b[0;32m     71\u001b[0m     \u001b[38;5;28;01mif\u001b[39;00m \u001b[38;5;129;01mnot\u001b[39;00m \u001b[38;5;28misinstance\u001b[39m(node, Constant) \u001b[38;5;129;01mor\u001b[39;00m \u001b[38;5;28mtype\u001b[39m(node\u001b[38;5;241m.\u001b[39mvalue) \u001b[38;5;129;01mnot\u001b[39;00m \u001b[38;5;129;01min\u001b[39;00m (\u001b[38;5;28mint\u001b[39m, \u001b[38;5;28mfloat\u001b[39m, \u001b[38;5;28mcomplex\u001b[39m):\n\u001b[1;32m---> 72\u001b[0m         \u001b[43m_raise_malformed_node\u001b[49m\u001b[43m(\u001b[49m\u001b[43mnode\u001b[49m\u001b[43m)\u001b[49m\n\u001b[0;32m     73\u001b[0m     \u001b[38;5;28;01mreturn\u001b[39;00m node\u001b[38;5;241m.\u001b[39mvalue\n",
      "File \u001b[1;32mC:\\Program Files\\Python310\\lib\\ast.py:69\u001b[0m, in \u001b[0;36mliteral_eval.<locals>._raise_malformed_node\u001b[1;34m(node)\u001b[0m\n\u001b[0;32m     67\u001b[0m \u001b[38;5;28;01mif\u001b[39;00m lno \u001b[38;5;241m:=\u001b[39m \u001b[38;5;28mgetattr\u001b[39m(node, \u001b[38;5;124m'\u001b[39m\u001b[38;5;124mlineno\u001b[39m\u001b[38;5;124m'\u001b[39m, \u001b[38;5;28;01mNone\u001b[39;00m):\n\u001b[0;32m     68\u001b[0m     msg \u001b[38;5;241m+\u001b[39m\u001b[38;5;241m=\u001b[39m \u001b[38;5;124mf\u001b[39m\u001b[38;5;124m'\u001b[39m\u001b[38;5;124m on line \u001b[39m\u001b[38;5;132;01m{\u001b[39;00mlno\u001b[38;5;132;01m}\u001b[39;00m\u001b[38;5;124m'\u001b[39m\n\u001b[1;32m---> 69\u001b[0m \u001b[38;5;28;01mraise\u001b[39;00m \u001b[38;5;167;01mValueError\u001b[39;00m(msg \u001b[38;5;241m+\u001b[39m \u001b[38;5;124mf\u001b[39m\u001b[38;5;124m'\u001b[39m\u001b[38;5;124m: \u001b[39m\u001b[38;5;132;01m{\u001b[39;00mnode\u001b[38;5;132;01m!r}\u001b[39;00m\u001b[38;5;124m'\u001b[39m)\n",
      "\u001b[1;31mValueError\u001b[0m: malformed node or string on line 1: <ast.Name object at 0x000001BE53EA78E0>"
     ]
    }
   ],
   "source": [
    "# Iterate over JSON files in the data_for_curator folder\n",
    "for json_file in json_folder.glob(\"*.json\"):\n",
    "\n",
    "    extract_json_path = json_folder /  json_file.name\n",
    "    output_file_path_main = output_folder / json_file.with_suffix(\".csv\").name\n",
    "\n",
    "    file_name = os.path.basename(json_file).replace(\"_output\",\"\")\n",
    "    print(extract_json_path)\n",
    "\n",
    "    # Create AnnotationData instance\n",
    "    annotation_data = AnnotationData(\n",
    "        annotation_folder=annotation_folder,\n",
    "        extract_json=extract_json_path,\n",
    "        kpi_mapping_path=kpi_mapping_path,\n",
    "        output_path=output_file_path_main,\n",
    "    )\n",
    "\n",
    "    try:\n",
    "        # Validate AnnotationData instance\n",
    "        annotation_data = AnnotationData(**annotation_data.dict())\n",
    "        \n",
    "    except ValidationError as e:\n",
    "        print(f\"Validation error: {e}\")\n",
    "    else:\n",
    "        # Create Curator instance\n",
    "        curator = Curator(\n",
    "            annotation_folder=annotation_data.annotation_folder,\n",
    "            extract_json=annotation_data.extract_json,\n",
    "            kpi_mapping_path=annotation_data.kpi_mapping_path,\n",
    "            output_path=annotation_data.output_path,\n",
    "        )\n",
    "    \n",
    "    "
   ]
  },
  {
   "cell_type": "code",
   "execution_count": null,
   "metadata": {},
   "outputs": [],
   "source": []
  }
 ],
 "metadata": {
  "kernelspec": {
   "display_name": "venv",
   "language": "python",
   "name": "python3"
  },
  "language_info": {
   "codemirror_mode": {
    "name": "ipython",
    "version": 3
   },
   "file_extension": ".py",
   "mimetype": "text/x-python",
   "name": "python",
   "nbconvert_exporter": "python",
   "pygments_lexer": "ipython3",
   "version": "3.10.4"
  }
 },
 "nbformat": 4,
 "nbformat_minor": 2
}
