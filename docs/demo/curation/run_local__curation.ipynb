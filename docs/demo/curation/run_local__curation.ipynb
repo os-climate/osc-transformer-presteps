{
 "cells": [
  {
   "cell_type": "code",
   "execution_count": 1,
   "metadata": {},
   "outputs": [],
   "source": [
    "from pathlib import Path\n",
    "import os\n",
    "from pydantic import BaseModel, FilePath, ValidationError\n",
    "import sys\n",
    "import math\n",
    "from pathlib import Path\n",
    "sys.path.append(r'C:\\Users\\Tanishq\\Desktop\\IDS_WORK\\curator\\osc-transformer-presteps')\n",
    "\n",
    "from src.osc_transformer_presteps.dataset_creation_curation.curator import Curator"
   ]
  },
  {
   "cell_type": "code",
   "execution_count": 2,
   "metadata": {},
   "outputs": [],
   "source": [
    "class AnnotationData(BaseModel):\n",
    "    \"\"\"\n",
    "    Pydantic model for annotation data.\n",
    "    \"\"\"\n",
    "\n",
    "    annotation_folder: FilePath\n",
    "    extract_json: FilePath\n",
    "    kpi_mapping_path: FilePath\n",
    "    output_path: Path\n"
   ]
  },
  {
   "cell_type": "code",
   "execution_count": 3,
   "metadata": {},
   "outputs": [],
   "source": [
    "# Assuming your script is located in the same directory as the 'input' and 'output' folders\n",
    "input_folder = Path(\"input\").resolve()\n",
    "output_folder = Path(\"output\").resolve()\n",
    "\n",
    "### give path to the json folder\n",
    "json_folder = Path(\"data_for_curator\").resolve()\n",
    "\n",
    "input_folder = input_folder.resolve()\n",
    "output_folder = output_folder.resolve()\n",
    "json_folder = json_folder.resolve()\n",
    "\n",
    "\n",
    "annotation_folder = input_folder / \"train_anno_large.xlsx\"\n",
    "kpi_mapping_path = input_folder / \"kpi_mapping.csv\""
   ]
  },
  {
   "cell_type": "code",
   "execution_count": 4,
   "metadata": {},
   "outputs": [
    {
     "name": "stdout",
     "output_type": "stream",
     "text": [
      "C:\\Users\\Tanishq\\Desktop\\IDS_WORK\\curator\\osc-transformer-presteps\\docs\\demo\\curation\\data_for_curator\\04_NOVATEK_AR_2016_ENG_11_output.json\n"
     ]
    },
    {
     "name": "stdout",
     "output_type": "stream",
     "text": [
      "C:\\Users\\Tanishq\\Desktop\\IDS_WORK\\curator\\osc-transformer-presteps\\docs\\demo\\curation\\data_for_curator\\04_NOVATEK_AR_2018_ENG_15_output.json\n",
      "C:\\Users\\Tanishq\\Desktop\\IDS_WORK\\curator\\osc-transformer-presteps\\docs\\demo\\curation\\data_for_curator\\190207_03_annualreport2018_output.json\n",
      "C:\\Users\\Tanishq\\Desktop\\IDS_WORK\\curator\\osc-transformer-presteps\\docs\\demo\\curation\\data_for_curator\\191047_MOTOR_OIL_OIKONOMIKOS_ENG_2018_V5_output.json\n",
      "C:\\Users\\Tanishq\\Desktop\\IDS_WORK\\curator\\osc-transformer-presteps\\docs\\demo\\curation\\data_for_curator\\19612-Hunting-RA13_output.json\n",
      "C:\\Users\\Tanishq\\Desktop\\IDS_WORK\\curator\\osc-transformer-presteps\\docs\\demo\\curation\\data_for_curator\\200205_01_annual_report_2019_output.json\n",
      "C:\\Users\\Tanishq\\Desktop\\IDS_WORK\\curator\\osc-transformer-presteps\\docs\\demo\\curation\\data_for_curator\\2012_sustainability_report_output.json\n",
      "C:\\Users\\Tanishq\\Desktop\\IDS_WORK\\curator\\osc-transformer-presteps\\docs\\demo\\curation\\data_for_curator\\2013_book_mol_ar_eng_fin_output.json\n",
      "C:\\Users\\Tanishq\\Desktop\\IDS_WORK\\curator\\osc-transformer-presteps\\docs\\demo\\curation\\data_for_curator\\2013_sustainability_report_output.json\n",
      "C:\\Users\\Tanishq\\Desktop\\IDS_WORK\\curator\\osc-transformer-presteps\\docs\\demo\\curation\\data_for_curator\\2014 Environmental and Social Report (En)_output.json\n",
      "C:\\Users\\Tanishq\\Desktop\\IDS_WORK\\curator\\osc-transformer-presteps\\docs\\demo\\curation\\data_for_curator\\2014_sustainability_report_output.json\n",
      "C:\\Users\\Tanishq\\Desktop\\IDS_WORK\\curator\\osc-transformer-presteps\\docs\\demo\\curation\\data_for_curator\\2015 Environmental and Social Report (En)_output.json\n",
      "C:\\Users\\Tanishq\\Desktop\\IDS_WORK\\curator\\osc-transformer-presteps\\docs\\demo\\curation\\data_for_curator\\2016_sustainability_report_output.json\n",
      "C:\\Users\\Tanishq\\Desktop\\IDS_WORK\\curator\\osc-transformer-presteps\\docs\\demo\\curation\\data_for_curator\\2016_Volume2_AR-1_output.json\n",
      "C:\\Users\\Tanishq\\Desktop\\IDS_WORK\\curator\\osc-transformer-presteps\\docs\\demo\\curation\\data_for_curator\\2017 Sustainability Report_output.json\n",
      "C:\\Users\\Tanishq\\Desktop\\IDS_WORK\\curator\\osc-transformer-presteps\\docs\\demo\\curation\\data_for_curator\\2017-Sustainability-Report_output.json\n",
      "C:\\Users\\Tanishq\\Desktop\\IDS_WORK\\curator\\osc-transformer-presteps\\docs\\demo\\curation\\data_for_curator\\2017_Volume2_AR_output.json\n",
      "C:\\Users\\Tanishq\\Desktop\\IDS_WORK\\curator\\osc-transformer-presteps\\docs\\demo\\curation\\data_for_curator\\2018 Annual Report_output.json\n",
      "C:\\Users\\Tanishq\\Desktop\\IDS_WORK\\curator\\osc-transformer-presteps\\docs\\demo\\curation\\data_for_curator\\2018_Tomo2_IA_en_output.json\n",
      "C:\\Users\\Tanishq\\Desktop\\IDS_WORK\\curator\\osc-transformer-presteps\\docs\\demo\\curation\\data_for_curator\\2019 Annual Report_output.json\n",
      "C:\\Users\\Tanishq\\Desktop\\IDS_WORK\\curator\\osc-transformer-presteps\\docs\\demo\\curation\\data_for_curator\\2019_global_sustainability_plan_tcm14-148662_output.json\n",
      "C:\\Users\\Tanishq\\Desktop\\IDS_WORK\\curator\\osc-transformer-presteps\\docs\\demo\\curation\\data_for_curator\\742707_output.json\n",
      "C:\\Users\\Tanishq\\Desktop\\IDS_WORK\\curator\\osc-transformer-presteps\\docs\\demo\\curation\\data_for_curator\\Aker-BP-Annual-report-2018_output.json\n",
      "C:\\Users\\Tanishq\\Desktop\\IDS_WORK\\curator\\osc-transformer-presteps\\docs\\demo\\curation\\data_for_curator\\Aker-BP-Annual-Report-2019_output.json\n",
      "C:\\Users\\Tanishq\\Desktop\\IDS_WORK\\curator\\osc-transformer-presteps\\docs\\demo\\curation\\data_for_curator\\Aker-BP-Sustainability-Report-2018-1_output.json\n",
      "C:\\Users\\Tanishq\\Desktop\\IDS_WORK\\curator\\osc-transformer-presteps\\docs\\demo\\curation\\data_for_curator\\Aker-BP-Sustainability-Report-2019_output.json\n",
      "C:\\Users\\Tanishq\\Desktop\\IDS_WORK\\curator\\osc-transformer-presteps\\docs\\demo\\curation\\data_for_curator\\AKERBP-Annual-Report-2016_output.json\n",
      "C:\\Users\\Tanishq\\Desktop\\IDS_WORK\\curator\\osc-transformer-presteps\\docs\\demo\\curation\\data_for_curator\\AKERBP-Annual-Report-2017_output.json\n",
      "C:\\Users\\Tanishq\\Desktop\\IDS_WORK\\curator\\osc-transformer-presteps\\docs\\demo\\curation\\data_for_curator\\annual 2012_output.json\n",
      "C:\\Users\\Tanishq\\Desktop\\IDS_WORK\\curator\\osc-transformer-presteps\\docs\\demo\\curation\\data_for_curator\\annual 2013_output.json\n",
      "C:\\Users\\Tanishq\\Desktop\\IDS_WORK\\curator\\osc-transformer-presteps\\docs\\demo\\curation\\data_for_curator\\annual 2014_output.json\n",
      "C:\\Users\\Tanishq\\Desktop\\IDS_WORK\\curator\\osc-transformer-presteps\\docs\\demo\\curation\\data_for_curator\\annual 2015 _output.json\n",
      "C:\\Users\\Tanishq\\Desktop\\IDS_WORK\\curator\\osc-transformer-presteps\\docs\\demo\\curation\\data_for_curator\\annual 2015_output.json\n",
      "C:\\Users\\Tanishq\\Desktop\\IDS_WORK\\curator\\osc-transformer-presteps\\docs\\demo\\curation\\data_for_curator\\annual 2016 _output.json\n",
      "C:\\Users\\Tanishq\\Desktop\\IDS_WORK\\curator\\osc-transformer-presteps\\docs\\demo\\curation\\data_for_curator\\annual 2016_output.json\n",
      "C:\\Users\\Tanishq\\Desktop\\IDS_WORK\\curator\\osc-transformer-presteps\\docs\\demo\\curation\\data_for_curator\\annual 2017 _output.json\n",
      "C:\\Users\\Tanishq\\Desktop\\IDS_WORK\\curator\\osc-transformer-presteps\\docs\\demo\\curation\\data_for_curator\\annual 2017_output.json\n",
      "C:\\Users\\Tanishq\\Desktop\\IDS_WORK\\curator\\osc-transformer-presteps\\docs\\demo\\curation\\data_for_curator\\annual 2018 _output.json\n",
      "C:\\Users\\Tanishq\\Desktop\\IDS_WORK\\curator\\osc-transformer-presteps\\docs\\demo\\curation\\data_for_curator\\annual 2018_output.json\n",
      "C:\\Users\\Tanishq\\Desktop\\IDS_WORK\\curator\\osc-transformer-presteps\\docs\\demo\\curation\\data_for_curator\\annual 2019 _output.json\n",
      "C:\\Users\\Tanishq\\Desktop\\IDS_WORK\\curator\\osc-transformer-presteps\\docs\\demo\\curation\\data_for_curator\\annual report 2018_output.json\n",
      "C:\\Users\\Tanishq\\Desktop\\IDS_WORK\\curator\\osc-transformer-presteps\\docs\\demo\\curation\\data_for_curator\\Annual report 2019_output.json\n",
      "C:\\Users\\Tanishq\\Desktop\\IDS_WORK\\curator\\osc-transformer-presteps\\docs\\demo\\curation\\data_for_curator\\annual-corporate-governance-report-file_output.json\n",
      "C:\\Users\\Tanishq\\Desktop\\IDS_WORK\\curator\\osc-transformer-presteps\\docs\\demo\\curation\\data_for_curator\\Annual-Report-2013_output.json\n",
      "C:\\Users\\Tanishq\\Desktop\\IDS_WORK\\curator\\osc-transformer-presteps\\docs\\demo\\curation\\data_for_curator\\annual-report-2016_output.json\n",
      "C:\\Users\\Tanishq\\Desktop\\IDS_WORK\\curator\\osc-transformer-presteps\\docs\\demo\\curation\\data_for_curator\\Annual-Report-and-Accounts-2016-en_output.json\n",
      "C:\\Users\\Tanishq\\Desktop\\IDS_WORK\\curator\\osc-transformer-presteps\\docs\\demo\\curation\\data_for_curator\\annual-report-and-accounts-2017_Tu_output.json\n",
      "C:\\Users\\Tanishq\\Desktop\\IDS_WORK\\curator\\osc-transformer-presteps\\docs\\demo\\curation\\data_for_curator\\annual-report-and-accounts_output.json\n",
      "C:\\Users\\Tanishq\\Desktop\\IDS_WORK\\curator\\osc-transformer-presteps\\docs\\demo\\curation\\data_for_curator\\annual_report_2019_eng_output.json\n",
      "C:\\Users\\Tanishq\\Desktop\\IDS_WORK\\curator\\osc-transformer-presteps\\docs\\demo\\curation\\data_for_curator\\Annual_Report_and_Accounts_Galp_2017_1_output.json\n",
      "C:\\Users\\Tanishq\\Desktop\\IDS_WORK\\curator\\osc-transformer-presteps\\docs\\demo\\curation\\data_for_curator\\ara-2016-17-plc-06-06-2017_output.json\n",
      "C:\\Users\\Tanishq\\Desktop\\IDS_WORK\\curator\\osc-transformer-presteps\\docs\\demo\\curation\\data_for_curator\\ar_2016_book_eng_0606_output.json\n",
      "C:\\Users\\Tanishq\\Desktop\\IDS_WORK\\curator\\osc-transformer-presteps\\docs\\demo\\curation\\data_for_curator\\ar_2017_book_eng_output.json\n",
      "C:\\Users\\Tanishq\\Desktop\\IDS_WORK\\curator\\osc-transformer-presteps\\docs\\demo\\curation\\data_for_curator\\ar_2019_e_output.json\n",
      "C:\\Users\\Tanishq\\Desktop\\IDS_WORK\\curator\\osc-transformer-presteps\\docs\\demo\\curation\\data_for_curator\\Audited_Accounts_December31_2017_output.json\n"
     ]
    },
    {
     "ename": "IndexError",
     "evalue": "list index out of range",
     "output_type": "error",
     "traceback": [
      "\u001b[1;31m---------------------------------------------------------------------------\u001b[0m",
      "\u001b[1;31mIndexError\u001b[0m                                Traceback (most recent call last)",
      "Cell \u001b[1;32mIn[4], line 26\u001b[0m\n\u001b[0;32m     23\u001b[0m     \u001b[38;5;28mprint\u001b[39m(\u001b[38;5;124mf\u001b[39m\u001b[38;5;124m\"\u001b[39m\u001b[38;5;124mValidation error: \u001b[39m\u001b[38;5;132;01m{\u001b[39;00me\u001b[38;5;132;01m}\u001b[39;00m\u001b[38;5;124m\"\u001b[39m)\n\u001b[0;32m     24\u001b[0m \u001b[38;5;28;01melse\u001b[39;00m:\n\u001b[0;32m     25\u001b[0m     \u001b[38;5;66;03m# Create Curator instance\u001b[39;00m\n\u001b[1;32m---> 26\u001b[0m     curator \u001b[38;5;241m=\u001b[39m \u001b[43mCurator\u001b[49m\u001b[43m(\u001b[49m\n\u001b[0;32m     27\u001b[0m \u001b[43m        \u001b[49m\u001b[43mannotation_folder\u001b[49m\u001b[38;5;241;43m=\u001b[39;49m\u001b[43mannotation_data\u001b[49m\u001b[38;5;241;43m.\u001b[39;49m\u001b[43mannotation_folder\u001b[49m\u001b[43m,\u001b[49m\n\u001b[0;32m     28\u001b[0m \u001b[43m        \u001b[49m\u001b[43mextract_json\u001b[49m\u001b[38;5;241;43m=\u001b[39;49m\u001b[43mannotation_data\u001b[49m\u001b[38;5;241;43m.\u001b[39;49m\u001b[43mextract_json\u001b[49m\u001b[43m,\u001b[49m\n\u001b[0;32m     29\u001b[0m \u001b[43m        \u001b[49m\u001b[43mkpi_mapping_path\u001b[49m\u001b[38;5;241;43m=\u001b[39;49m\u001b[43mannotation_data\u001b[49m\u001b[38;5;241;43m.\u001b[39;49m\u001b[43mkpi_mapping_path\u001b[49m\u001b[43m,\u001b[49m\n\u001b[0;32m     30\u001b[0m \u001b[43m        \u001b[49m\u001b[43moutput_path\u001b[49m\u001b[38;5;241;43m=\u001b[39;49m\u001b[43mannotation_data\u001b[49m\u001b[38;5;241;43m.\u001b[39;49m\u001b[43moutput_path\u001b[49m\u001b[43m,\u001b[49m\n\u001b[0;32m     31\u001b[0m \u001b[43m    \u001b[49m\u001b[43m)\u001b[49m\n",
      "File \u001b[1;32m~\\Desktop\\IDS_WORK\\curator\\osc-transformer-presteps\\src\\osc_transformer_presteps\\dataset_creation_curation\\curator.py:91\u001b[0m, in \u001b[0;36mCurator.__init__\u001b[1;34m(self, annotation_folder, extract_json, kpi_mapping_path, output_path, retrieve_paragraph, neg_pos_ratio, columns_to_read, company_to_exclude, create_neg_samples, min_length_neg_sample, seed)\u001b[0m\n\u001b[0;32m     88\u001b[0m \u001b[38;5;28mself\u001b[39m\u001b[38;5;241m.\u001b[39mseed \u001b[38;5;241m=\u001b[39m seed\n\u001b[0;32m     90\u001b[0m \u001b[38;5;28mself\u001b[39m\u001b[38;5;241m.\u001b[39mpdf_content \u001b[38;5;241m=\u001b[39m \u001b[38;5;28mself\u001b[39m\u001b[38;5;241m.\u001b[39mload_pdf_content()\n\u001b[1;32m---> 91\u001b[0m \u001b[38;5;28;43mself\u001b[39;49m\u001b[38;5;241;43m.\u001b[39;49m\u001b[43mcreate_curator_df\u001b[49m\u001b[43m(\u001b[49m\u001b[38;5;28;43mself\u001b[39;49m\u001b[38;5;241;43m.\u001b[39;49m\u001b[43moutput_path\u001b[49m\u001b[43m)\u001b[49m\n",
      "File \u001b[1;32m~\\Desktop\\IDS_WORK\\curator\\osc-transformer-presteps\\src\\osc_transformer_presteps\\dataset_creation_curation\\curator.py:233\u001b[0m, in \u001b[0;36mCurator.create_curator_df\u001b[1;34m(self, output_path)\u001b[0m\n\u001b[0;32m    232\u001b[0m \u001b[38;5;28;01mdef\u001b[39;00m \u001b[38;5;21mcreate_curator_df\u001b[39m(\u001b[38;5;28mself\u001b[39m, output_path) \u001b[38;5;241m-\u001b[39m\u001b[38;5;241m>\u001b[39m \u001b[38;5;28;01mNone\u001b[39;00m:\n\u001b[1;32m--> 233\u001b[0m     new_dfs \u001b[38;5;241m=\u001b[39m \u001b[38;5;28;43mself\u001b[39;49m\u001b[38;5;241;43m.\u001b[39;49m\u001b[43mcreate_examples_annotate\u001b[49m\u001b[43m(\u001b[49m\u001b[38;5;28;43mself\u001b[39;49m\u001b[38;5;241;43m.\u001b[39;49m\u001b[43mannotation_folder\u001b[49m\u001b[43m)\u001b[49m\n\u001b[0;32m    234\u001b[0m     new_df \u001b[38;5;241m=\u001b[39m pd\u001b[38;5;241m.\u001b[39mconcat(new_dfs, ignore_index\u001b[38;5;241m=\u001b[39m\u001b[38;5;28;01mTrue\u001b[39;00m)\n\u001b[0;32m    236\u001b[0m     kpi_df \u001b[38;5;241m=\u001b[39m pd\u001b[38;5;241m.\u001b[39mread_csv(\u001b[38;5;28mself\u001b[39m\u001b[38;5;241m.\u001b[39mkpi_mapping_path, header\u001b[38;5;241m=\u001b[39m\u001b[38;5;241m0\u001b[39m)\n",
      "File \u001b[1;32m~\\Desktop\\IDS_WORK\\curator\\osc-transformer-presteps\\src\\osc_transformer_presteps\\dataset_creation_curation\\curator.py:219\u001b[0m, in \u001b[0;36mCurator.create_examples_annotate\u001b[1;34m(self, filepath)\u001b[0m\n\u001b[0;32m    216\u001b[0m row[\u001b[38;5;124m\"\u001b[39m\u001b[38;5;124mIndex\u001b[39m\u001b[38;5;124m\"\u001b[39m] \u001b[38;5;241m=\u001b[39m i\n\u001b[0;32m    217\u001b[0m positive_context \u001b[38;5;241m=\u001b[39m \u001b[38;5;28mself\u001b[39m\u001b[38;5;241m.\u001b[39mcreate_pos_examples(row\u001b[38;5;241m.\u001b[39mcopy())\n\u001b[1;32m--> 219\u001b[0m negative_context: List[\u001b[38;5;28mstr\u001b[39m] \u001b[38;5;241m=\u001b[39m \u001b[38;5;28;43mself\u001b[39;49m\u001b[38;5;241;43m.\u001b[39;49m\u001b[43mcreate_neg_examples\u001b[49m\u001b[43m(\u001b[49m\u001b[43mrow\u001b[49m\u001b[38;5;241;43m.\u001b[39;49m\u001b[43mcopy\u001b[49m\u001b[43m(\u001b[49m\u001b[43m)\u001b[49m\u001b[43m)\u001b[49m \u001b[38;5;28;01mif\u001b[39;00m \u001b[38;5;28mself\u001b[39m\u001b[38;5;241m.\u001b[39mcreate_neg_samples \u001b[38;5;28;01melse\u001b[39;00m []\n\u001b[0;32m    221\u001b[0m \u001b[38;5;66;03m# Create DataFrames for positive contexts\u001b[39;00m\n\u001b[0;32m    222\u001b[0m pos_df \u001b[38;5;241m=\u001b[39m pd\u001b[38;5;241m.\u001b[39mDataFrame({\u001b[38;5;124m\"\u001b[39m\u001b[38;5;124mcontext\u001b[39m\u001b[38;5;124m\"\u001b[39m: positive_context, \u001b[38;5;124m\"\u001b[39m\u001b[38;5;124mlabel\u001b[39m\u001b[38;5;124m\"\u001b[39m: \u001b[38;5;241m1\u001b[39m})\n",
      "File \u001b[1;32m~\\Desktop\\IDS_WORK\\curator\\osc-transformer-presteps\\src\\osc_transformer_presteps\\dataset_creation_curation\\curator.py:201\u001b[0m, in \u001b[0;36mCurator.create_neg_examples\u001b[1;34m(self, row)\u001b[0m\n\u001b[0;32m    192\u001b[0m \u001b[38;5;28;01mdef\u001b[39;00m \u001b[38;5;21mcreate_neg_examples\u001b[39m(\u001b[38;5;28mself\u001b[39m, row: pd\u001b[38;5;241m.\u001b[39mSeries) \u001b[38;5;241m-\u001b[39m\u001b[38;5;241m>\u001b[39m List[\u001b[38;5;28mstr\u001b[39m]:\n\u001b[0;32m    195\u001b[0m     paragraphs: List[\u001b[38;5;28mstr\u001b[39m] \u001b[38;5;241m=\u001b[39m [\n\u001b[0;32m    196\u001b[0m         \u001b[38;5;28mself\u001b[39m\u001b[38;5;241m.\u001b[39mpdf_content[key_outer][key_inner][\u001b[38;5;124m\"\u001b[39m\u001b[38;5;124mparagraph\u001b[39m\u001b[38;5;124m\"\u001b[39m]\n\u001b[0;32m    197\u001b[0m         \u001b[38;5;28;01mfor\u001b[39;00m key_outer \u001b[38;5;129;01min\u001b[39;00m \u001b[38;5;28mself\u001b[39m\u001b[38;5;241m.\u001b[39mpdf_content\n\u001b[0;32m    198\u001b[0m         \u001b[38;5;28;01mfor\u001b[39;00m key_inner \u001b[38;5;129;01min\u001b[39;00m \u001b[38;5;28mself\u001b[39m\u001b[38;5;241m.\u001b[39mpdf_content[key_outer]\n\u001b[0;32m    199\u001b[0m     ]\n\u001b[1;32m--> 201\u001b[0m     context: List[\u001b[38;5;28mstr\u001b[39m] \u001b[38;5;241m=\u001b[39m \u001b[43mrandom\u001b[49m\u001b[38;5;241;43m.\u001b[39;49m\u001b[43mchoices\u001b[49m\u001b[43m(\u001b[49m\u001b[43mparagraphs\u001b[49m\u001b[43m,\u001b[49m\u001b[43m \u001b[49m\u001b[43mk\u001b[49m\u001b[38;5;241;43m=\u001b[39;49m\u001b[38;5;28;43mself\u001b[39;49m\u001b[38;5;241;43m.\u001b[39;49m\u001b[43mneg_pos_ratio\u001b[49m\u001b[43m)\u001b[49m\n\u001b[0;32m    203\u001b[0m     \u001b[38;5;28;01mreturn\u001b[39;00m context\n",
      "File \u001b[1;32mC:\\Program Files\\Python310\\lib\\random.py:519\u001b[0m, in \u001b[0;36mRandom.choices\u001b[1;34m(self, population, weights, cum_weights, k)\u001b[0m\n\u001b[0;32m    517\u001b[0m     floor \u001b[38;5;241m=\u001b[39m _floor\n\u001b[0;32m    518\u001b[0m     n \u001b[38;5;241m+\u001b[39m\u001b[38;5;241m=\u001b[39m \u001b[38;5;241m0.0\u001b[39m    \u001b[38;5;66;03m# convert to float for a small speed improvement\u001b[39;00m\n\u001b[1;32m--> 519\u001b[0m     \u001b[38;5;28;01mreturn\u001b[39;00m [population[floor(random() \u001b[38;5;241m*\u001b[39m n)] \u001b[38;5;28;01mfor\u001b[39;00m i \u001b[38;5;129;01min\u001b[39;00m _repeat(\u001b[38;5;28;01mNone\u001b[39;00m, k)]\n\u001b[0;32m    520\u001b[0m \u001b[38;5;28;01mtry\u001b[39;00m:\n\u001b[0;32m    521\u001b[0m     cum_weights \u001b[38;5;241m=\u001b[39m \u001b[38;5;28mlist\u001b[39m(_accumulate(weights))\n",
      "File \u001b[1;32mC:\\Program Files\\Python310\\lib\\random.py:519\u001b[0m, in \u001b[0;36m<listcomp>\u001b[1;34m(.0)\u001b[0m\n\u001b[0;32m    517\u001b[0m     floor \u001b[38;5;241m=\u001b[39m _floor\n\u001b[0;32m    518\u001b[0m     n \u001b[38;5;241m+\u001b[39m\u001b[38;5;241m=\u001b[39m \u001b[38;5;241m0.0\u001b[39m    \u001b[38;5;66;03m# convert to float for a small speed improvement\u001b[39;00m\n\u001b[1;32m--> 519\u001b[0m     \u001b[38;5;28;01mreturn\u001b[39;00m [\u001b[43mpopulation\u001b[49m\u001b[43m[\u001b[49m\u001b[43mfloor\u001b[49m\u001b[43m(\u001b[49m\u001b[43mrandom\u001b[49m\u001b[43m(\u001b[49m\u001b[43m)\u001b[49m\u001b[43m \u001b[49m\u001b[38;5;241;43m*\u001b[39;49m\u001b[43m \u001b[49m\u001b[43mn\u001b[49m\u001b[43m)\u001b[49m\u001b[43m]\u001b[49m \u001b[38;5;28;01mfor\u001b[39;00m i \u001b[38;5;129;01min\u001b[39;00m _repeat(\u001b[38;5;28;01mNone\u001b[39;00m, k)]\n\u001b[0;32m    520\u001b[0m \u001b[38;5;28;01mtry\u001b[39;00m:\n\u001b[0;32m    521\u001b[0m     cum_weights \u001b[38;5;241m=\u001b[39m \u001b[38;5;28mlist\u001b[39m(_accumulate(weights))\n",
      "\u001b[1;31mIndexError\u001b[0m: list index out of range"
     ]
    }
   ],
   "source": [
    "# Iterate over JSON files in the data_for_curator folder\n",
    "for json_file in json_folder.glob(\"*.json\"):\n",
    "\n",
    "    extract_json_path = json_folder /  json_file.name\n",
    "    output_file_path_main = output_folder / json_file.with_suffix(\".csv\").name\n",
    "\n",
    "    file_name = os.path.basename(json_file).replace(\"_output\",\"\")\n",
    "    print(extract_json_path)\n",
    "\n",
    "    # Create AnnotationData instance\n",
    "    annotation_data = AnnotationData(\n",
    "        annotation_folder=annotation_folder,\n",
    "        extract_json=extract_json_path,\n",
    "        kpi_mapping_path=kpi_mapping_path,\n",
    "        output_path=output_file_path_main,\n",
    "    )\n",
    "\n",
    "    try:\n",
    "        # Validate AnnotationData instance\n",
    "        annotation_data = AnnotationData(**annotation_data.dict())\n",
    "        \n",
    "    except ValidationError as e:\n",
    "        print(f\"Validation error: {e}\")\n",
    "    else:\n",
    "        # Create Curator instance\n",
    "        curator = Curator(\n",
    "            annotation_folder=annotation_data.annotation_folder,\n",
    "            extract_json=annotation_data.extract_json,\n",
    "            kpi_mapping_path=annotation_data.kpi_mapping_path,\n",
    "            output_path=annotation_data.output_path,\n",
    "        )\n",
    "    \n",
    "    "
   ]
  },
  {
   "cell_type": "code",
   "execution_count": null,
   "metadata": {},
   "outputs": [],
   "source": []
  }
 ],
 "metadata": {
  "kernelspec": {
   "display_name": "venv",
   "language": "python",
   "name": "python3"
  },
  "language_info": {
   "codemirror_mode": {
    "name": "ipython",
    "version": 3
   },
   "file_extension": ".py",
   "mimetype": "text/x-python",
   "name": "python",
   "nbconvert_exporter": "python",
   "pygments_lexer": "ipython3",
   "version": "3.10.4"
  }
 },
 "nbformat": 4,
 "nbformat_minor": 2
}
